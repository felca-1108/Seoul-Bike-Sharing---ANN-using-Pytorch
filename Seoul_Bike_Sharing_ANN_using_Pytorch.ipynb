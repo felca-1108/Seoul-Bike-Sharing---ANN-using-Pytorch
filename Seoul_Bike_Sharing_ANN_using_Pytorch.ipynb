{
  "nbformat": 4,
  "nbformat_minor": 0,
  "metadata": {
    "colab": {
      "provenance": [],
      "machine_shape": "hm"
    },
    "kernelspec": {
      "name": "python3",
      "display_name": "Python 3"
    },
    "language_info": {
      "name": "python"
    }
  },
  "cells": [
    {
      "cell_type": "markdown",
      "source": [
        "## Seoul Bike Sharing - Artificial Neural Network using Pytorch\n",
        "\n",
        "Currently Rental bikes are introduced in many urban cities for the enhancement of mobility comfort. It is important to make the rental bike available and accessible to the public at the right time as it lessens the waiting time. Eventually, providing the city with a stable supply of rental bikes becomes a major concern. The crucial part is the prediction of bike count required at each hour for the stable supply of rental bikes.\n",
        "\n",
        "In this project, we will predict the demand of bikes per hour in the Seoul Bike Sharing System. For this regression problem we are going to build an artificial neural network using Pytorch library.\n",
        "\n",
        "The dataset is provided in the UCI Machine Learning Repository, in the link https://archive.ics.uci.edu/dataset/560/seoul+bike+sharing+demand ."
      ],
      "metadata": {
        "id": "AGyDXxOr7OFe"
      }
    },
    {
      "cell_type": "code",
      "execution_count": 306,
      "metadata": {
        "id": "2Vir-dXY5c4p"
      },
      "outputs": [],
      "source": [
        "# Importing the libraries\n",
        "import torch\n",
        "import torch.nn as nn\n",
        "import pandas as pd\n",
        "import numpy as np\n",
        "import matplotlib.pyplot as plt\n",
        "import seaborn as sns\n",
        "%matplotlib inline"
      ]
    },
    {
      "cell_type": "code",
      "source": [
        "#Loading the dataset\n",
        "df=pd.read_csv('SeoulBikeData.csv', encoding='unicode_escape')"
      ],
      "metadata": {
        "id": "gB8vx6955rxX"
      },
      "execution_count": 307,
      "outputs": []
    },
    {
      "cell_type": "code",
      "source": [
        "df.head()"
      ],
      "metadata": {
        "colab": {
          "base_uri": "https://localhost:8080/",
          "height": 348
        },
        "id": "pDVvwMJL7ZwV",
        "outputId": "5d9236a9-c76e-40ae-c46b-0eb23b2cfdda"
      },
      "execution_count": 308,
      "outputs": [
        {
          "output_type": "execute_result",
          "data": {
            "text/plain": [
              "         Date  Rented Bike Count  Hour  Temperature(°C)  Humidity(%)  \\\n",
              "0  01/12/2017                254     0             -5.2           37   \n",
              "1  01/12/2017                204     1             -5.5           38   \n",
              "2  01/12/2017                173     2             -6.0           39   \n",
              "3  01/12/2017                107     3             -6.2           40   \n",
              "4  01/12/2017                 78     4             -6.0           36   \n",
              "\n",
              "   Wind speed (m/s)  Visibility (10m)  Dew point temperature(°C)  \\\n",
              "0               2.2              2000                      -17.6   \n",
              "1               0.8              2000                      -17.6   \n",
              "2               1.0              2000                      -17.7   \n",
              "3               0.9              2000                      -17.6   \n",
              "4               2.3              2000                      -18.6   \n",
              "\n",
              "   Solar Radiation (MJ/m2)  Rainfall(mm)  Snowfall (cm) Seasons     Holiday  \\\n",
              "0                      0.0           0.0            0.0  Winter  No Holiday   \n",
              "1                      0.0           0.0            0.0  Winter  No Holiday   \n",
              "2                      0.0           0.0            0.0  Winter  No Holiday   \n",
              "3                      0.0           0.0            0.0  Winter  No Holiday   \n",
              "4                      0.0           0.0            0.0  Winter  No Holiday   \n",
              "\n",
              "  Functioning Day  \n",
              "0             Yes  \n",
              "1             Yes  \n",
              "2             Yes  \n",
              "3             Yes  \n",
              "4             Yes  "
            ],
            "text/html": [
              "\n",
              "  <div id=\"df-6b4517d1-9030-4a9f-a71d-e23440db5678\" class=\"colab-df-container\">\n",
              "    <div>\n",
              "<style scoped>\n",
              "    .dataframe tbody tr th:only-of-type {\n",
              "        vertical-align: middle;\n",
              "    }\n",
              "\n",
              "    .dataframe tbody tr th {\n",
              "        vertical-align: top;\n",
              "    }\n",
              "\n",
              "    .dataframe thead th {\n",
              "        text-align: right;\n",
              "    }\n",
              "</style>\n",
              "<table border=\"1\" class=\"dataframe\">\n",
              "  <thead>\n",
              "    <tr style=\"text-align: right;\">\n",
              "      <th></th>\n",
              "      <th>Date</th>\n",
              "      <th>Rented Bike Count</th>\n",
              "      <th>Hour</th>\n",
              "      <th>Temperature(°C)</th>\n",
              "      <th>Humidity(%)</th>\n",
              "      <th>Wind speed (m/s)</th>\n",
              "      <th>Visibility (10m)</th>\n",
              "      <th>Dew point temperature(°C)</th>\n",
              "      <th>Solar Radiation (MJ/m2)</th>\n",
              "      <th>Rainfall(mm)</th>\n",
              "      <th>Snowfall (cm)</th>\n",
              "      <th>Seasons</th>\n",
              "      <th>Holiday</th>\n",
              "      <th>Functioning Day</th>\n",
              "    </tr>\n",
              "  </thead>\n",
              "  <tbody>\n",
              "    <tr>\n",
              "      <th>0</th>\n",
              "      <td>01/12/2017</td>\n",
              "      <td>254</td>\n",
              "      <td>0</td>\n",
              "      <td>-5.2</td>\n",
              "      <td>37</td>\n",
              "      <td>2.2</td>\n",
              "      <td>2000</td>\n",
              "      <td>-17.6</td>\n",
              "      <td>0.0</td>\n",
              "      <td>0.0</td>\n",
              "      <td>0.0</td>\n",
              "      <td>Winter</td>\n",
              "      <td>No Holiday</td>\n",
              "      <td>Yes</td>\n",
              "    </tr>\n",
              "    <tr>\n",
              "      <th>1</th>\n",
              "      <td>01/12/2017</td>\n",
              "      <td>204</td>\n",
              "      <td>1</td>\n",
              "      <td>-5.5</td>\n",
              "      <td>38</td>\n",
              "      <td>0.8</td>\n",
              "      <td>2000</td>\n",
              "      <td>-17.6</td>\n",
              "      <td>0.0</td>\n",
              "      <td>0.0</td>\n",
              "      <td>0.0</td>\n",
              "      <td>Winter</td>\n",
              "      <td>No Holiday</td>\n",
              "      <td>Yes</td>\n",
              "    </tr>\n",
              "    <tr>\n",
              "      <th>2</th>\n",
              "      <td>01/12/2017</td>\n",
              "      <td>173</td>\n",
              "      <td>2</td>\n",
              "      <td>-6.0</td>\n",
              "      <td>39</td>\n",
              "      <td>1.0</td>\n",
              "      <td>2000</td>\n",
              "      <td>-17.7</td>\n",
              "      <td>0.0</td>\n",
              "      <td>0.0</td>\n",
              "      <td>0.0</td>\n",
              "      <td>Winter</td>\n",
              "      <td>No Holiday</td>\n",
              "      <td>Yes</td>\n",
              "    </tr>\n",
              "    <tr>\n",
              "      <th>3</th>\n",
              "      <td>01/12/2017</td>\n",
              "      <td>107</td>\n",
              "      <td>3</td>\n",
              "      <td>-6.2</td>\n",
              "      <td>40</td>\n",
              "      <td>0.9</td>\n",
              "      <td>2000</td>\n",
              "      <td>-17.6</td>\n",
              "      <td>0.0</td>\n",
              "      <td>0.0</td>\n",
              "      <td>0.0</td>\n",
              "      <td>Winter</td>\n",
              "      <td>No Holiday</td>\n",
              "      <td>Yes</td>\n",
              "    </tr>\n",
              "    <tr>\n",
              "      <th>4</th>\n",
              "      <td>01/12/2017</td>\n",
              "      <td>78</td>\n",
              "      <td>4</td>\n",
              "      <td>-6.0</td>\n",
              "      <td>36</td>\n",
              "      <td>2.3</td>\n",
              "      <td>2000</td>\n",
              "      <td>-18.6</td>\n",
              "      <td>0.0</td>\n",
              "      <td>0.0</td>\n",
              "      <td>0.0</td>\n",
              "      <td>Winter</td>\n",
              "      <td>No Holiday</td>\n",
              "      <td>Yes</td>\n",
              "    </tr>\n",
              "  </tbody>\n",
              "</table>\n",
              "</div>\n",
              "    <div class=\"colab-df-buttons\">\n",
              "\n",
              "  <div class=\"colab-df-container\">\n",
              "    <button class=\"colab-df-convert\" onclick=\"convertToInteractive('df-6b4517d1-9030-4a9f-a71d-e23440db5678')\"\n",
              "            title=\"Convert this dataframe to an interactive table.\"\n",
              "            style=\"display:none;\">\n",
              "\n",
              "  <svg xmlns=\"http://www.w3.org/2000/svg\" height=\"24px\" viewBox=\"0 -960 960 960\">\n",
              "    <path d=\"M120-120v-720h720v720H120Zm60-500h600v-160H180v160Zm220 220h160v-160H400v160Zm0 220h160v-160H400v160ZM180-400h160v-160H180v160Zm440 0h160v-160H620v160ZM180-180h160v-160H180v160Zm440 0h160v-160H620v160Z\"/>\n",
              "  </svg>\n",
              "    </button>\n",
              "\n",
              "  <style>\n",
              "    .colab-df-container {\n",
              "      display:flex;\n",
              "      gap: 12px;\n",
              "    }\n",
              "\n",
              "    .colab-df-convert {\n",
              "      background-color: #E8F0FE;\n",
              "      border: none;\n",
              "      border-radius: 50%;\n",
              "      cursor: pointer;\n",
              "      display: none;\n",
              "      fill: #1967D2;\n",
              "      height: 32px;\n",
              "      padding: 0 0 0 0;\n",
              "      width: 32px;\n",
              "    }\n",
              "\n",
              "    .colab-df-convert:hover {\n",
              "      background-color: #E2EBFA;\n",
              "      box-shadow: 0px 1px 2px rgba(60, 64, 67, 0.3), 0px 1px 3px 1px rgba(60, 64, 67, 0.15);\n",
              "      fill: #174EA6;\n",
              "    }\n",
              "\n",
              "    .colab-df-buttons div {\n",
              "      margin-bottom: 4px;\n",
              "    }\n",
              "\n",
              "    [theme=dark] .colab-df-convert {\n",
              "      background-color: #3B4455;\n",
              "      fill: #D2E3FC;\n",
              "    }\n",
              "\n",
              "    [theme=dark] .colab-df-convert:hover {\n",
              "      background-color: #434B5C;\n",
              "      box-shadow: 0px 1px 3px 1px rgba(0, 0, 0, 0.15);\n",
              "      filter: drop-shadow(0px 1px 2px rgba(0, 0, 0, 0.3));\n",
              "      fill: #FFFFFF;\n",
              "    }\n",
              "  </style>\n",
              "\n",
              "    <script>\n",
              "      const buttonEl =\n",
              "        document.querySelector('#df-6b4517d1-9030-4a9f-a71d-e23440db5678 button.colab-df-convert');\n",
              "      buttonEl.style.display =\n",
              "        google.colab.kernel.accessAllowed ? 'block' : 'none';\n",
              "\n",
              "      async function convertToInteractive(key) {\n",
              "        const element = document.querySelector('#df-6b4517d1-9030-4a9f-a71d-e23440db5678');\n",
              "        const dataTable =\n",
              "          await google.colab.kernel.invokeFunction('convertToInteractive',\n",
              "                                                    [key], {});\n",
              "        if (!dataTable) return;\n",
              "\n",
              "        const docLinkHtml = 'Like what you see? Visit the ' +\n",
              "          '<a target=\"_blank\" href=https://colab.research.google.com/notebooks/data_table.ipynb>data table notebook</a>'\n",
              "          + ' to learn more about interactive tables.';\n",
              "        element.innerHTML = '';\n",
              "        dataTable['output_type'] = 'display_data';\n",
              "        await google.colab.output.renderOutput(dataTable, element);\n",
              "        const docLink = document.createElement('div');\n",
              "        docLink.innerHTML = docLinkHtml;\n",
              "        element.appendChild(docLink);\n",
              "      }\n",
              "    </script>\n",
              "  </div>\n",
              "\n",
              "\n",
              "<div id=\"df-49b3db70-d4ee-4bc0-baae-b151916ba0ba\">\n",
              "  <button class=\"colab-df-quickchart\" onclick=\"quickchart('df-49b3db70-d4ee-4bc0-baae-b151916ba0ba')\"\n",
              "            title=\"Suggest charts.\"\n",
              "            style=\"display:none;\">\n",
              "\n",
              "<svg xmlns=\"http://www.w3.org/2000/svg\" height=\"24px\"viewBox=\"0 0 24 24\"\n",
              "     width=\"24px\">\n",
              "    <g>\n",
              "        <path d=\"M19 3H5c-1.1 0-2 .9-2 2v14c0 1.1.9 2 2 2h14c1.1 0 2-.9 2-2V5c0-1.1-.9-2-2-2zM9 17H7v-7h2v7zm4 0h-2V7h2v10zm4 0h-2v-4h2v4z\"/>\n",
              "    </g>\n",
              "</svg>\n",
              "  </button>\n",
              "\n",
              "<style>\n",
              "  .colab-df-quickchart {\n",
              "      --bg-color: #E8F0FE;\n",
              "      --fill-color: #1967D2;\n",
              "      --hover-bg-color: #E2EBFA;\n",
              "      --hover-fill-color: #174EA6;\n",
              "      --disabled-fill-color: #AAA;\n",
              "      --disabled-bg-color: #DDD;\n",
              "  }\n",
              "\n",
              "  [theme=dark] .colab-df-quickchart {\n",
              "      --bg-color: #3B4455;\n",
              "      --fill-color: #D2E3FC;\n",
              "      --hover-bg-color: #434B5C;\n",
              "      --hover-fill-color: #FFFFFF;\n",
              "      --disabled-bg-color: #3B4455;\n",
              "      --disabled-fill-color: #666;\n",
              "  }\n",
              "\n",
              "  .colab-df-quickchart {\n",
              "    background-color: var(--bg-color);\n",
              "    border: none;\n",
              "    border-radius: 50%;\n",
              "    cursor: pointer;\n",
              "    display: none;\n",
              "    fill: var(--fill-color);\n",
              "    height: 32px;\n",
              "    padding: 0;\n",
              "    width: 32px;\n",
              "  }\n",
              "\n",
              "  .colab-df-quickchart:hover {\n",
              "    background-color: var(--hover-bg-color);\n",
              "    box-shadow: 0 1px 2px rgba(60, 64, 67, 0.3), 0 1px 3px 1px rgba(60, 64, 67, 0.15);\n",
              "    fill: var(--button-hover-fill-color);\n",
              "  }\n",
              "\n",
              "  .colab-df-quickchart-complete:disabled,\n",
              "  .colab-df-quickchart-complete:disabled:hover {\n",
              "    background-color: var(--disabled-bg-color);\n",
              "    fill: var(--disabled-fill-color);\n",
              "    box-shadow: none;\n",
              "  }\n",
              "\n",
              "  .colab-df-spinner {\n",
              "    border: 2px solid var(--fill-color);\n",
              "    border-color: transparent;\n",
              "    border-bottom-color: var(--fill-color);\n",
              "    animation:\n",
              "      spin 1s steps(1) infinite;\n",
              "  }\n",
              "\n",
              "  @keyframes spin {\n",
              "    0% {\n",
              "      border-color: transparent;\n",
              "      border-bottom-color: var(--fill-color);\n",
              "      border-left-color: var(--fill-color);\n",
              "    }\n",
              "    20% {\n",
              "      border-color: transparent;\n",
              "      border-left-color: var(--fill-color);\n",
              "      border-top-color: var(--fill-color);\n",
              "    }\n",
              "    30% {\n",
              "      border-color: transparent;\n",
              "      border-left-color: var(--fill-color);\n",
              "      border-top-color: var(--fill-color);\n",
              "      border-right-color: var(--fill-color);\n",
              "    }\n",
              "    40% {\n",
              "      border-color: transparent;\n",
              "      border-right-color: var(--fill-color);\n",
              "      border-top-color: var(--fill-color);\n",
              "    }\n",
              "    60% {\n",
              "      border-color: transparent;\n",
              "      border-right-color: var(--fill-color);\n",
              "    }\n",
              "    80% {\n",
              "      border-color: transparent;\n",
              "      border-right-color: var(--fill-color);\n",
              "      border-bottom-color: var(--fill-color);\n",
              "    }\n",
              "    90% {\n",
              "      border-color: transparent;\n",
              "      border-bottom-color: var(--fill-color);\n",
              "    }\n",
              "  }\n",
              "</style>\n",
              "\n",
              "  <script>\n",
              "    async function quickchart(key) {\n",
              "      const quickchartButtonEl =\n",
              "        document.querySelector('#' + key + ' button');\n",
              "      quickchartButtonEl.disabled = true;  // To prevent multiple clicks.\n",
              "      quickchartButtonEl.classList.add('colab-df-spinner');\n",
              "      try {\n",
              "        const charts = await google.colab.kernel.invokeFunction(\n",
              "            'suggestCharts', [key], {});\n",
              "      } catch (error) {\n",
              "        console.error('Error during call to suggestCharts:', error);\n",
              "      }\n",
              "      quickchartButtonEl.classList.remove('colab-df-spinner');\n",
              "      quickchartButtonEl.classList.add('colab-df-quickchart-complete');\n",
              "    }\n",
              "    (() => {\n",
              "      let quickchartButtonEl =\n",
              "        document.querySelector('#df-49b3db70-d4ee-4bc0-baae-b151916ba0ba button');\n",
              "      quickchartButtonEl.style.display =\n",
              "        google.colab.kernel.accessAllowed ? 'block' : 'none';\n",
              "    })();\n",
              "  </script>\n",
              "</div>\n",
              "    </div>\n",
              "  </div>\n"
            ]
          },
          "metadata": {},
          "execution_count": 308
        }
      ]
    },
    {
      "cell_type": "code",
      "source": [
        "df.shape"
      ],
      "metadata": {
        "colab": {
          "base_uri": "https://localhost:8080/"
        },
        "id": "n4lRYI4y6Fja",
        "outputId": "17ff615e-5b9b-4284-ac36-b4dce4c870ed"
      },
      "execution_count": 309,
      "outputs": [
        {
          "output_type": "execute_result",
          "data": {
            "text/plain": [
              "(8760, 14)"
            ]
          },
          "metadata": {},
          "execution_count": 309
        }
      ]
    },
    {
      "cell_type": "markdown",
      "source": [
        "Below we can see the data dictionary, provided in UCI Machine Learning Repository:\n",
        "\n",
        "- Date : year-month-day\n",
        "- Rented Bike count - Count of bikes rented at each hour\n",
        "- Hour - Hour of he day\n",
        "- Temperature-Temperature in Celsius\n",
        "- Humidity - %\n",
        "- Windspeed - m/s\n",
        "- Visibility - 10m\n",
        "- Dew point temperature - Celsius\n",
        "- Solar radiation - MJ/m2\n",
        "- Rainfall - mm\n",
        "- Snowfall - cm\n",
        "- Seasons - Winter, Spring, Summer, Autumn\n",
        "- Holiday - Holiday/No holiday\n",
        "- Functional Day - NoFunc(Non Functional Hours), Fun(Functional hours)"
      ],
      "metadata": {
        "id": "AbK6kuat_ht0"
      }
    },
    {
      "cell_type": "markdown",
      "source": [
        "##  EDA and Data Prepocessing\n"
      ],
      "metadata": {
        "id": "pEd7Gx85AQW8"
      }
    },
    {
      "cell_type": "code",
      "source": [
        "#No missing values\n",
        "df.isnull().sum()"
      ],
      "metadata": {
        "colab": {
          "base_uri": "https://localhost:8080/"
        },
        "id": "RVYqvfTd7EJB",
        "outputId": "4a1f7522-d7bc-4373-ec8e-470ad0889e0c"
      },
      "execution_count": 310,
      "outputs": [
        {
          "output_type": "execute_result",
          "data": {
            "text/plain": [
              "Date                         0\n",
              "Rented Bike Count            0\n",
              "Hour                         0\n",
              "Temperature(°C)              0\n",
              "Humidity(%)                  0\n",
              "Wind speed (m/s)             0\n",
              "Visibility (10m)             0\n",
              "Dew point temperature(°C)    0\n",
              "Solar Radiation (MJ/m2)      0\n",
              "Rainfall(mm)                 0\n",
              "Snowfall (cm)                0\n",
              "Seasons                      0\n",
              "Holiday                      0\n",
              "Functioning Day              0\n",
              "dtype: int64"
            ]
          },
          "metadata": {},
          "execution_count": 310
        }
      ]
    },
    {
      "cell_type": "code",
      "source": [
        "#Let's take a look at the dtype of the features\n",
        "df.info()"
      ],
      "metadata": {
        "colab": {
          "base_uri": "https://localhost:8080/"
        },
        "id": "mZHZO8qa7Fyi",
        "outputId": "cd7ebebe-27b1-40a0-f174-13187dec88ea"
      },
      "execution_count": 311,
      "outputs": [
        {
          "output_type": "stream",
          "name": "stdout",
          "text": [
            "<class 'pandas.core.frame.DataFrame'>\n",
            "RangeIndex: 8760 entries, 0 to 8759\n",
            "Data columns (total 14 columns):\n",
            " #   Column                     Non-Null Count  Dtype  \n",
            "---  ------                     --------------  -----  \n",
            " 0   Date                       8760 non-null   object \n",
            " 1   Rented Bike Count          8760 non-null   int64  \n",
            " 2   Hour                       8760 non-null   int64  \n",
            " 3   Temperature(°C)            8760 non-null   float64\n",
            " 4   Humidity(%)                8760 non-null   int64  \n",
            " 5   Wind speed (m/s)           8760 non-null   float64\n",
            " 6   Visibility (10m)           8760 non-null   int64  \n",
            " 7   Dew point temperature(°C)  8760 non-null   float64\n",
            " 8   Solar Radiation (MJ/m2)    8760 non-null   float64\n",
            " 9   Rainfall(mm)               8760 non-null   float64\n",
            " 10  Snowfall (cm)              8760 non-null   float64\n",
            " 11  Seasons                    8760 non-null   object \n",
            " 12  Holiday                    8760 non-null   object \n",
            " 13  Functioning Day            8760 non-null   object \n",
            "dtypes: float64(6), int64(4), object(4)\n",
            "memory usage: 958.2+ KB\n"
          ]
        }
      ]
    },
    {
      "cell_type": "markdown",
      "source": [
        "Let's make a descriptive stattistics on the target, \"Rented Bike Count\"."
      ],
      "metadata": {
        "id": "ATJcR9piHhi8"
      }
    },
    {
      "cell_type": "code",
      "source": [
        "df['Rented Bike Count'].describe()"
      ],
      "metadata": {
        "colab": {
          "base_uri": "https://localhost:8080/"
        },
        "id": "fIfcx9MlHmoh",
        "outputId": "6054c3a7-0765-451e-dd03-967cfc72f82d"
      },
      "execution_count": 312,
      "outputs": [
        {
          "output_type": "execute_result",
          "data": {
            "text/plain": [
              "count    8760.000000\n",
              "mean      704.602055\n",
              "std       644.997468\n",
              "min         0.000000\n",
              "25%       191.000000\n",
              "50%       504.500000\n",
              "75%      1065.250000\n",
              "max      3556.000000\n",
              "Name: Rented Bike Count, dtype: float64"
            ]
          },
          "metadata": {},
          "execution_count": 312
        }
      ]
    },
    {
      "cell_type": "code",
      "source": [
        "#The distribution is asymmetric to the right.\n",
        "sns.displot(df['Rented Bike Count'], kind='kde')"
      ],
      "metadata": {
        "colab": {
          "base_uri": "https://localhost:8080/",
          "height": 524
        },
        "id": "Py2pAY38H0VQ",
        "outputId": "d457030f-5f27-4eee-c823-f0ffc043daa1"
      },
      "execution_count": 313,
      "outputs": [
        {
          "output_type": "execute_result",
          "data": {
            "text/plain": [
              "<seaborn.axisgrid.FacetGrid at 0x7b489288a320>"
            ]
          },
          "metadata": {},
          "execution_count": 313
        },
        {
          "output_type": "display_data",
          "data": {
            "text/plain": [
              "<Figure size 500x500 with 1 Axes>"
            ],
            "image/png": "[encoded data removed]"
          },
          "metadata": {}
        }
      ]
    },
    {
      "cell_type": "markdown",
      "source": [
        "Let's take a look at the feature \"Functioning Day\". We are going to audit the dataset. All the rows that \"Functioning Day\" is \"No\", \"Rented Bike Count\" should be 0.\n",
        "\n",
        "If my assumption is correct, we are going to drop the rows that have \"No\" in \"Functioning Day\" and then drop \"Functioning Day\" column. This data don't agreggate any information to our model."
      ],
      "metadata": {
        "id": "hcQTU3Ln_UvG"
      }
    },
    {
      "cell_type": "code",
      "source": [
        "# 295 \"No\" rows.\n",
        "df['Functioning Day'].value_counts()"
      ],
      "metadata": {
        "colab": {
          "base_uri": "https://localhost:8080/"
        },
        "id": "E7pJf0QC7UMw",
        "outputId": "7c04d557-5ce9-4748-ef30-ea01dcaad22c"
      },
      "execution_count": 314,
      "outputs": [
        {
          "output_type": "execute_result",
          "data": {
            "text/plain": [
              "Yes    8465\n",
              "No      295\n",
              "Name: Functioning Day, dtype: int64"
            ]
          },
          "metadata": {},
          "execution_count": 314
        }
      ]
    },
    {
      "cell_type": "code",
      "source": [
        "#Obviously, as we assumed, with no Functioning Day there are no Bike Rental.\n",
        "df.loc[df['Functioning Day']=='No','Rented Bike Count'].unique()"
      ],
      "metadata": {
        "colab": {
          "base_uri": "https://localhost:8080/"
        },
        "id": "gpwsPnG47ucU",
        "outputId": "9a9555ba-b9a5-42fb-d69b-e09496eba394"
      },
      "execution_count": 315,
      "outputs": [
        {
          "output_type": "execute_result",
          "data": {
            "text/plain": [
              "array([0])"
            ]
          },
          "metadata": {},
          "execution_count": 315
        }
      ]
    },
    {
      "cell_type": "code",
      "source": [
        "#Dropping no functioning days' rows.\n",
        "df.drop(df.loc[df['Functioning Day']=='No'].index,inplace=True)"
      ],
      "metadata": {
        "id": "z2D6gKSe71e2"
      },
      "execution_count": 316,
      "outputs": []
    },
    {
      "cell_type": "code",
      "source": [
        "#Dropping \"Functioning Day\" column.\n",
        "df.drop('Functioning Day', axis=1,inplace=True)"
      ],
      "metadata": {
        "id": "hspd-MVp8lIy"
      },
      "execution_count": 317,
      "outputs": []
    },
    {
      "cell_type": "markdown",
      "source": [
        "Now, we are going to make a feature engeneering using the \"Date\" feature. We are going to build the features \"Month\", \"Weekday\" and \"Year\"."
      ],
      "metadata": {
        "id": "9QqyOBd9IzIv"
      }
    },
    {
      "cell_type": "code",
      "source": [
        "# Converting the dtype of \"Date\" from object to datetime in order to start our feature engeneering.\n",
        "df['Date']=pd.to_datetime(df['Date'])"
      ],
      "metadata": {
        "colab": {
          "base_uri": "https://localhost:8080/"
        },
        "id": "c_Qp-ck89O-R",
        "outputId": "fdc80539-fcf2-452c-d440-2edc2e8bcc7c"
      },
      "execution_count": 318,
      "outputs": [
        {
          "output_type": "stream",
          "name": "stderr",
          "text": [
            "<ipython-input-318-88502500799d>:2: UserWarning: Parsing dates in DD/MM/YYYY format when dayfirst=False (the default) was specified. This may lead to inconsistently parsed dates! Specify a format to ensure consistent parsing.\n",
            "  df['Date']=pd.to_datetime(df['Date'])\n"
          ]
        }
      ]
    },
    {
      "cell_type": "code",
      "source": [
        "#Dtype of \"Date\" is datetime.\n",
        "df.info()"
      ],
      "metadata": {
        "colab": {
          "base_uri": "https://localhost:8080/"
        },
        "id": "P8TrNIy39_oU",
        "outputId": "862441bc-ec88-49ff-b12d-197c91222bd3"
      },
      "execution_count": 319,
      "outputs": [
        {
          "output_type": "stream",
          "name": "stdout",
          "text": [
            "<class 'pandas.core.frame.DataFrame'>\n",
            "Int64Index: 8465 entries, 0 to 8759\n",
            "Data columns (total 13 columns):\n",
            " #   Column                     Non-Null Count  Dtype         \n",
            "---  ------                     --------------  -----         \n",
            " 0   Date                       8465 non-null   datetime64[ns]\n",
            " 1   Rented Bike Count          8465 non-null   int64         \n",
            " 2   Hour                       8465 non-null   int64         \n",
            " 3   Temperature(°C)            8465 non-null   float64       \n",
            " 4   Humidity(%)                8465 non-null   int64         \n",
            " 5   Wind speed (m/s)           8465 non-null   float64       \n",
            " 6   Visibility (10m)           8465 non-null   int64         \n",
            " 7   Dew point temperature(°C)  8465 non-null   float64       \n",
            " 8   Solar Radiation (MJ/m2)    8465 non-null   float64       \n",
            " 9   Rainfall(mm)               8465 non-null   float64       \n",
            " 10  Snowfall (cm)              8465 non-null   float64       \n",
            " 11  Seasons                    8465 non-null   object        \n",
            " 12  Holiday                    8465 non-null   object        \n",
            "dtypes: datetime64[ns](1), float64(6), int64(4), object(2)\n",
            "memory usage: 925.9+ KB\n"
          ]
        }
      ]
    },
    {
      "cell_type": "code",
      "source": [
        "# Date is in the format YYYY-MM-DD. We can see that the data started to be collected in january of 2017 and ended in december of 2018.\n",
        "df['Date'].describe()"
      ],
      "metadata": {
        "colab": {
          "base_uri": "https://localhost:8080/"
        },
        "id": "IQlm9lRh-KuH",
        "outputId": "4e721cb9-c4b0-43af-b566-cd570336d727"
      },
      "execution_count": 320,
      "outputs": [
        {
          "output_type": "stream",
          "name": "stderr",
          "text": [
            "<ipython-input-320-ad5b1189a17a>:2: FutureWarning: Treating datetime data as categorical rather than numeric in `.describe` is deprecated and will be removed in a future version of pandas. Specify `datetime_is_numeric=True` to silence this warning and adopt the future behavior now.\n",
            "  df['Date'].describe()\n"
          ]
        },
        {
          "output_type": "execute_result",
          "data": {
            "text/plain": [
              "count                    8465\n",
              "unique                    353\n",
              "top       2017-01-12 00:00:00\n",
              "freq                       24\n",
              "first     2017-01-12 00:00:00\n",
              "last      2018-12-11 00:00:00\n",
              "Name: Date, dtype: object"
            ]
          },
          "metadata": {},
          "execution_count": 320
        }
      ]
    },
    {
      "cell_type": "markdown",
      "source": [
        "From the date, we can pick the year, month and day of the week."
      ],
      "metadata": {
        "id": "mFwegEMz_JYi"
      }
    },
    {
      "cell_type": "code",
      "source": [
        "df['Month']=df['Date'].apply(lambda x: x.month)\n",
        "df['Weekday']=df['Date'].apply(lambda x: x.strftime(\"%A\"))\n",
        "df['Year']=df['Date'].apply(lambda x: x.year)"
      ],
      "metadata": {
        "id": "Nwt-OJjm-gv6"
      },
      "execution_count": 321,
      "outputs": []
    },
    {
      "cell_type": "code",
      "source": [
        "#Now let's drop the date, cause we won't use it anymore.\n",
        "df.drop('Date',axis=1,inplace=True)"
      ],
      "metadata": {
        "id": "Zq0G7XX5BPOS"
      },
      "execution_count": 322,
      "outputs": []
    },
    {
      "cell_type": "markdown",
      "source": [
        "As we are going to build an artificial neural network, we have to transform our pandas dataset in pytorch tensors. For that, first we'll divide de features in categorycal and continuos, once the preprocessing of one group is different from the preprocessig of the other.\n",
        "\n"
      ],
      "metadata": {
        "id": "0gPRKkRLKJsy"
      }
    },
    {
      "cell_type": "code",
      "source": [
        "#Shuffling the data\n",
        "df = df.sample(frac = 1).reset_index(drop=True)\n",
        "df.head()"
      ],
      "metadata": {
        "colab": {
          "base_uri": "https://localhost:8080/",
          "height": 330
        },
        "id": "ZF0ZZkqrK5ri",
        "outputId": "06825e2e-cfdc-457b-ecf3-c7f570216d7a"
      },
      "execution_count": 323,
      "outputs": [
        {
          "output_type": "execute_result",
          "data": {
            "text/plain": [
              "   Rented Bike Count  Hour  Temperature(°C)  Humidity(%)  Wind speed (m/s)  \\\n",
              "0               1611    21             30.6           70               1.6   \n",
              "1                266     0              5.6           78               0.6   \n",
              "2                240     0             -0.4           83               1.2   \n",
              "3                258    13             -4.7           18               3.7   \n",
              "4               2377    21             22.6           62               1.1   \n",
              "\n",
              "   Visibility (10m)  Dew point temperature(°C)  Solar Radiation (MJ/m2)  \\\n",
              "0              1542                       24.4                     0.00   \n",
              "1               196                        2.0                     0.00   \n",
              "2               247                       -2.9                     0.00   \n",
              "3              2000                      -25.4                     1.16   \n",
              "4              1363                       14.9                     0.00   \n",
              "\n",
              "   Rainfall(mm)  Snowfall (cm) Seasons     Holiday  Month    Weekday  Year  \n",
              "0           0.0            0.0  Summer  No Holiday      6     Friday  2018  \n",
              "1           0.0            0.0  Winter     Holiday     12     Sunday  2017  \n",
              "2           0.0            0.0  Winter  No Holiday     12   Saturday  2017  \n",
              "3           0.0            0.0  Winter  No Holiday     12  Wednesday  2017  \n",
              "4           0.0            0.0  Summer  No Holiday      4     Friday  2018  "
            ],
            "text/html": [
              "\n",
              "  <div id=\"df-2994c392-0430-4df2-9b96-da49fdd9af1b\" class=\"colab-df-container\">\n",
              "    <div>\n",
              "<style scoped>\n",
              "    .dataframe tbody tr th:only-of-type {\n",
              "        vertical-align: middle;\n",
              "    }\n",
              "\n",
              "    .dataframe tbody tr th {\n",
              "        vertical-align: top;\n",
              "    }\n",
              "\n",
              "    .dataframe thead th {\n",
              "        text-align: right;\n",
              "    }\n",
              "</style>\n",
              "<table border=\"1\" class=\"dataframe\">\n",
              "  <thead>\n",
              "    <tr style=\"text-align: right;\">\n",
              "      <th></th>\n",
              "      <th>Rented Bike Count</th>\n",
              "      <th>Hour</th>\n",
              "      <th>Temperature(°C)</th>\n",
              "      <th>Humidity(%)</th>\n",
              "      <th>Wind speed (m/s)</th>\n",
              "      <th>Visibility (10m)</th>\n",
              "      <th>Dew point temperature(°C)</th>\n",
              "      <th>Solar Radiation (MJ/m2)</th>\n",
              "      <th>Rainfall(mm)</th>\n",
              "      <th>Snowfall (cm)</th>\n",
              "      <th>Seasons</th>\n",
              "      <th>Holiday</th>\n",
              "      <th>Month</th>\n",
              "      <th>Weekday</th>\n",
              "      <th>Year</th>\n",
              "    </tr>\n",
              "  </thead>\n",
              "  <tbody>\n",
              "    <tr>\n",
              "      <th>0</th>\n",
              "      <td>1611</td>\n",
              "      <td>21</td>\n",
              "      <td>30.6</td>\n",
              "      <td>70</td>\n",
              "      <td>1.6</td>\n",
              "      <td>1542</td>\n",
              "      <td>24.4</td>\n",
              "      <td>0.00</td>\n",
              "      <td>0.0</td>\n",
              "      <td>0.0</td>\n",
              "      <td>Summer</td>\n",
              "      <td>No Holiday</td>\n",
              "      <td>6</td>\n",
              "      <td>Friday</td>\n",
              "      <td>2018</td>\n",
              "    </tr>\n",
              "    <tr>\n",
              "      <th>1</th>\n",
              "      <td>266</td>\n",
              "      <td>0</td>\n",
              "      <td>5.6</td>\n",
              "      <td>78</td>\n",
              "      <td>0.6</td>\n",
              "      <td>196</td>\n",
              "      <td>2.0</td>\n",
              "      <td>0.00</td>\n",
              "      <td>0.0</td>\n",
              "      <td>0.0</td>\n",
              "      <td>Winter</td>\n",
              "      <td>Holiday</td>\n",
              "      <td>12</td>\n",
              "      <td>Sunday</td>\n",
              "      <td>2017</td>\n",
              "    </tr>\n",
              "    <tr>\n",
              "      <th>2</th>\n",
              "      <td>240</td>\n",
              "      <td>0</td>\n",
              "      <td>-0.4</td>\n",
              "      <td>83</td>\n",
              "      <td>1.2</td>\n",
              "      <td>247</td>\n",
              "      <td>-2.9</td>\n",
              "      <td>0.00</td>\n",
              "      <td>0.0</td>\n",
              "      <td>0.0</td>\n",
              "      <td>Winter</td>\n",
              "      <td>No Holiday</td>\n",
              "      <td>12</td>\n",
              "      <td>Saturday</td>\n",
              "      <td>2017</td>\n",
              "    </tr>\n",
              "    <tr>\n",
              "      <th>3</th>\n",
              "      <td>258</td>\n",
              "      <td>13</td>\n",
              "      <td>-4.7</td>\n",
              "      <td>18</td>\n",
              "      <td>3.7</td>\n",
              "      <td>2000</td>\n",
              "      <td>-25.4</td>\n",
              "      <td>1.16</td>\n",
              "      <td>0.0</td>\n",
              "      <td>0.0</td>\n",
              "      <td>Winter</td>\n",
              "      <td>No Holiday</td>\n",
              "      <td>12</td>\n",
              "      <td>Wednesday</td>\n",
              "      <td>2017</td>\n",
              "    </tr>\n",
              "    <tr>\n",
              "      <th>4</th>\n",
              "      <td>2377</td>\n",
              "      <td>21</td>\n",
              "      <td>22.6</td>\n",
              "      <td>62</td>\n",
              "      <td>1.1</td>\n",
              "      <td>1363</td>\n",
              "      <td>14.9</td>\n",
              "      <td>0.00</td>\n",
              "      <td>0.0</td>\n",
              "      <td>0.0</td>\n",
              "      <td>Summer</td>\n",
              "      <td>No Holiday</td>\n",
              "      <td>4</td>\n",
              "      <td>Friday</td>\n",
              "      <td>2018</td>\n",
              "    </tr>\n",
              "  </tbody>\n",
              "</table>\n",
              "</div>\n",
              "    <div class=\"colab-df-buttons\">\n",
              "\n",
              "  <div class=\"colab-df-container\">\n",
              "    <button class=\"colab-df-convert\" onclick=\"convertToInteractive('df-2994c392-0430-4df2-9b96-da49fdd9af1b')\"\n",
              "            title=\"Convert this dataframe to an interactive table.\"\n",
              "            style=\"display:none;\">\n",
              "\n",
              "  <svg xmlns=\"http://www.w3.org/2000/svg\" height=\"24px\" viewBox=\"0 -960 960 960\">\n",
              "    <path d=\"M120-120v-720h720v720H120Zm60-500h600v-160H180v160Zm220 220h160v-160H400v160Zm0 220h160v-160H400v160ZM180-400h160v-160H180v160Zm440 0h160v-160H620v160ZM180-180h160v-160H180v160Zm440 0h160v-160H620v160Z\"/>\n",
              "  </svg>\n",
              "    </button>\n",
              "\n",
              "  <style>\n",
              "    .colab-df-container {\n",
              "      display:flex;\n",
              "      gap: 12px;\n",
              "    }\n",
              "\n",
              "    .colab-df-convert {\n",
              "      background-color: #E8F0FE;\n",
              "      border: none;\n",
              "      border-radius: 50%;\n",
              "      cursor: pointer;\n",
              "      display: none;\n",
              "      fill: #1967D2;\n",
              "      height: 32px;\n",
              "      padding: 0 0 0 0;\n",
              "      width: 32px;\n",
              "    }\n",
              "\n",
              "    .colab-df-convert:hover {\n",
              "      background-color: #E2EBFA;\n",
              "      box-shadow: 0px 1px 2px rgba(60, 64, 67, 0.3), 0px 1px 3px 1px rgba(60, 64, 67, 0.15);\n",
              "      fill: #174EA6;\n",
              "    }\n",
              "\n",
              "    .colab-df-buttons div {\n",
              "      margin-bottom: 4px;\n",
              "    }\n",
              "\n",
              "    [theme=dark] .colab-df-convert {\n",
              "      background-color: #3B4455;\n",
              "      fill: #D2E3FC;\n",
              "    }\n",
              "\n",
              "    [theme=dark] .colab-df-convert:hover {\n",
              "      background-color: #434B5C;\n",
              "      box-shadow: 0px 1px 3px 1px rgba(0, 0, 0, 0.15);\n",
              "      filter: drop-shadow(0px 1px 2px rgba(0, 0, 0, 0.3));\n",
              "      fill: #FFFFFF;\n",
              "    }\n",
              "  </style>\n",
              "\n",
              "    <script>\n",
              "      const buttonEl =\n",
              "        document.querySelector('#df-2994c392-0430-4df2-9b96-da49fdd9af1b button.colab-df-convert');\n",
              "      buttonEl.style.display =\n",
              "        google.colab.kernel.accessAllowed ? 'block' : 'none';\n",
              "\n",
              "      async function convertToInteractive(key) {\n",
              "        const element = document.querySelector('#df-2994c392-0430-4df2-9b96-da49fdd9af1b');\n",
              "        const dataTable =\n",
              "          await google.colab.kernel.invokeFunction('convertToInteractive',\n",
              "                                                    [key], {});\n",
              "        if (!dataTable) return;\n",
              "\n",
              "        const docLinkHtml = 'Like what you see? Visit the ' +\n",
              "          '<a target=\"_blank\" href=https://colab.research.google.com/notebooks/data_table.ipynb>data table notebook</a>'\n",
              "          + ' to learn more about interactive tables.';\n",
              "        element.innerHTML = '';\n",
              "        dataTable['output_type'] = 'display_data';\n",
              "        await google.colab.output.renderOutput(dataTable, element);\n",
              "        const docLink = document.createElement('div');\n",
              "        docLink.innerHTML = docLinkHtml;\n",
              "        element.appendChild(docLink);\n",
              "      }\n",
              "    </script>\n",
              "  </div>\n",
              "\n",
              "\n",
              "<div id=\"df-39190ef9-cb38-479f-9667-5caa6f218588\">\n",
              "  <button class=\"colab-df-quickchart\" onclick=\"quickchart('df-39190ef9-cb38-479f-9667-5caa6f218588')\"\n",
              "            title=\"Suggest charts.\"\n",
              "            style=\"display:none;\">\n",
              "\n",
              "<svg xmlns=\"http://www.w3.org/2000/svg\" height=\"24px\"viewBox=\"0 0 24 24\"\n",
              "     width=\"24px\">\n",
              "    <g>\n",
              "        <path d=\"M19 3H5c-1.1 0-2 .9-2 2v14c0 1.1.9 2 2 2h14c1.1 0 2-.9 2-2V5c0-1.1-.9-2-2-2zM9 17H7v-7h2v7zm4 0h-2V7h2v10zm4 0h-2v-4h2v4z\"/>\n",
              "    </g>\n",
              "</svg>\n",
              "  </button>\n",
              "\n",
              "<style>\n",
              "  .colab-df-quickchart {\n",
              "      --bg-color: #E8F0FE;\n",
              "      --fill-color: #1967D2;\n",
              "      --hover-bg-color: #E2EBFA;\n",
              "      --hover-fill-color: #174EA6;\n",
              "      --disabled-fill-color: #AAA;\n",
              "      --disabled-bg-color: #DDD;\n",
              "  }\n",
              "\n",
              "  [theme=dark] .colab-df-quickchart {\n",
              "      --bg-color: #3B4455;\n",
              "      --fill-color: #D2E3FC;\n",
              "      --hover-bg-color: #434B5C;\n",
              "      --hover-fill-color: #FFFFFF;\n",
              "      --disabled-bg-color: #3B4455;\n",
              "      --disabled-fill-color: #666;\n",
              "  }\n",
              "\n",
              "  .colab-df-quickchart {\n",
              "    background-color: var(--bg-color);\n",
              "    border: none;\n",
              "    border-radius: 50%;\n",
              "    cursor: pointer;\n",
              "    display: none;\n",
              "    fill: var(--fill-color);\n",
              "    height: 32px;\n",
              "    padding: 0;\n",
              "    width: 32px;\n",
              "  }\n",
              "\n",
              "  .colab-df-quickchart:hover {\n",
              "    background-color: var(--hover-bg-color);\n",
              "    box-shadow: 0 1px 2px rgba(60, 64, 67, 0.3), 0 1px 3px 1px rgba(60, 64, 67, 0.15);\n",
              "    fill: var(--button-hover-fill-color);\n",
              "  }\n",
              "\n",
              "  .colab-df-quickchart-complete:disabled,\n",
              "  .colab-df-quickchart-complete:disabled:hover {\n",
              "    background-color: var(--disabled-bg-color);\n",
              "    fill: var(--disabled-fill-color);\n",
              "    box-shadow: none;\n",
              "  }\n",
              "\n",
              "  .colab-df-spinner {\n",
              "    border: 2px solid var(--fill-color);\n",
              "    border-color: transparent;\n",
              "    border-bottom-color: var(--fill-color);\n",
              "    animation:\n",
              "      spin 1s steps(1) infinite;\n",
              "  }\n",
              "\n",
              "  @keyframes spin {\n",
              "    0% {\n",
              "      border-color: transparent;\n",
              "      border-bottom-color: var(--fill-color);\n",
              "      border-left-color: var(--fill-color);\n",
              "    }\n",
              "    20% {\n",
              "      border-color: transparent;\n",
              "      border-left-color: var(--fill-color);\n",
              "      border-top-color: var(--fill-color);\n",
              "    }\n",
              "    30% {\n",
              "      border-color: transparent;\n",
              "      border-left-color: var(--fill-color);\n",
              "      border-top-color: var(--fill-color);\n",
              "      border-right-color: var(--fill-color);\n",
              "    }\n",
              "    40% {\n",
              "      border-color: transparent;\n",
              "      border-right-color: var(--fill-color);\n",
              "      border-top-color: var(--fill-color);\n",
              "    }\n",
              "    60% {\n",
              "      border-color: transparent;\n",
              "      border-right-color: var(--fill-color);\n",
              "    }\n",
              "    80% {\n",
              "      border-color: transparent;\n",
              "      border-right-color: var(--fill-color);\n",
              "      border-bottom-color: var(--fill-color);\n",
              "    }\n",
              "    90% {\n",
              "      border-color: transparent;\n",
              "      border-bottom-color: var(--fill-color);\n",
              "    }\n",
              "  }\n",
              "</style>\n",
              "\n",
              "  <script>\n",
              "    async function quickchart(key) {\n",
              "      const quickchartButtonEl =\n",
              "        document.querySelector('#' + key + ' button');\n",
              "      quickchartButtonEl.disabled = true;  // To prevent multiple clicks.\n",
              "      quickchartButtonEl.classList.add('colab-df-spinner');\n",
              "      try {\n",
              "        const charts = await google.colab.kernel.invokeFunction(\n",
              "            'suggestCharts', [key], {});\n",
              "      } catch (error) {\n",
              "        console.error('Error during call to suggestCharts:', error);\n",
              "      }\n",
              "      quickchartButtonEl.classList.remove('colab-df-spinner');\n",
              "      quickchartButtonEl.classList.add('colab-df-quickchart-complete');\n",
              "    }\n",
              "    (() => {\n",
              "      let quickchartButtonEl =\n",
              "        document.querySelector('#df-39190ef9-cb38-479f-9667-5caa6f218588 button');\n",
              "      quickchartButtonEl.style.display =\n",
              "        google.colab.kernel.accessAllowed ? 'block' : 'none';\n",
              "    })();\n",
              "  </script>\n",
              "</div>\n",
              "    </div>\n",
              "  </div>\n"
            ]
          },
          "metadata": {},
          "execution_count": 323
        }
      ]
    },
    {
      "cell_type": "code",
      "source": [
        "#dividing the columns in categorycal, continuous and the target.\n",
        "cat_cols=['Month','Hour','Seasons',\n",
        "       'Holiday',  'Weekday', 'Year']\n",
        "cont_cols=['Temperature(°C)', 'Humidity(%)',\n",
        "       'Wind speed (m/s)', 'Visibility (10m)', 'Dew point temperature(°C)',\n",
        "       'Solar Radiation (MJ/m2)', 'Rainfall(mm)', 'Snowfall (cm)']\n",
        "y_col=['Rented Bike Count']\n"
      ],
      "metadata": {
        "id": "Uutj8hpIBbqh"
      },
      "execution_count": 324,
      "outputs": []
    },
    {
      "cell_type": "markdown",
      "source": [
        "Let's treat first our categorycal columns and turn them into a tensor. Then we are going to build an embbeding layer as a part of the preprocessing."
      ],
      "metadata": {
        "id": "bmp3MqpNHgkR"
      }
    },
    {
      "cell_type": "code",
      "source": [
        "#Let's categorify our cat_cols.\n",
        "for col in cat_cols:\n",
        "  df[col]=df[col].astype('category')"
      ],
      "metadata": {
        "id": "l54H_mlOCiYP"
      },
      "execution_count": 325,
      "outputs": []
    },
    {
      "cell_type": "code",
      "source": [
        "#Now we are going to turn our cat_cols into an array of numbers and then concatenate them so we can turn them into a tensor.\n",
        "cats = np.stack([df[col].cat.codes.values for col in cat_cols],axis=1)\n",
        "cats"
      ],
      "metadata": {
        "colab": {
          "base_uri": "https://localhost:8080/"
        },
        "id": "fAXLO3K8DpXC",
        "outputId": "c6acf434-ccc8-4ae9-dc04-734aa10623bc"
      },
      "execution_count": 326,
      "outputs": [
        {
          "output_type": "execute_result",
          "data": {
            "text/plain": [
              "array([[ 5, 21,  2,  1,  0,  1],\n",
              "       [11,  0,  3,  0,  3,  0],\n",
              "       [11,  0,  3,  1,  2,  0],\n",
              "       ...,\n",
              "       [11,  2,  3,  1,  6,  0],\n",
              "       [10, 11,  0,  1,  5,  1],\n",
              "       [ 1,  5,  1,  1,  1,  1]], dtype=int8)"
            ]
          },
          "metadata": {},
          "execution_count": 326
        }
      ]
    },
    {
      "cell_type": "code",
      "source": [
        "#Converting our categorycal array into a tensor.\n",
        "cats = torch.tensor(cats, dtype=torch.int64)\n",
        "cats"
      ],
      "metadata": {
        "colab": {
          "base_uri": "https://localhost:8080/"
        },
        "id": "m6d1cFE9Egja",
        "outputId": "0f944dc4-f5b2-46f3-cb33-c2127cb3a2ab"
      },
      "execution_count": 327,
      "outputs": [
        {
          "output_type": "execute_result",
          "data": {
            "text/plain": [
              "tensor([[ 5, 21,  2,  1,  0,  1],\n",
              "        [11,  0,  3,  0,  3,  0],\n",
              "        [11,  0,  3,  1,  2,  0],\n",
              "        ...,\n",
              "        [11,  2,  3,  1,  6,  0],\n",
              "        [10, 11,  0,  1,  5,  1],\n",
              "        [ 1,  5,  1,  1,  1,  1]])"
            ]
          },
          "metadata": {},
          "execution_count": 327
        }
      ]
    },
    {
      "cell_type": "code",
      "source": [
        "cats.type()"
      ],
      "metadata": {
        "colab": {
          "base_uri": "https://localhost:8080/",
          "height": 36
        },
        "id": "rAN3uQVXIcfO",
        "outputId": "cecd1ade-c694-4ec8-868a-bbb61a65c1c8"
      },
      "execution_count": 328,
      "outputs": [
        {
          "output_type": "execute_result",
          "data": {
            "text/plain": [
              "'torch.LongTensor'"
            ],
            "application/vnd.google.colaboratory.intrinsic+json": {
              "type": "string"
            }
          },
          "metadata": {},
          "execution_count": 328
        }
      ]
    },
    {
      "cell_type": "code",
      "source": [
        "# This line of code is going to set the parameters that will be used as the input of the embbeding layer, that will be part of our ANN. Each tuple shows the number of different categories for each feature and the embbeding size.\n",
        "cat_szs=[len(df[col].cat.categories) for col in cat_cols]\n",
        "emb_szs=[(size,min(50,(size+1)//2)) for size in cat_szs]\n",
        "emb_szs"
      ],
      "metadata": {
        "colab": {
          "base_uri": "https://localhost:8080/"
        },
        "id": "vBU69ZcRg6jY",
        "outputId": "2bf45ae1-e1ff-4211-8f96-faa3ce39d4c3"
      },
      "execution_count": 329,
      "outputs": [
        {
          "output_type": "execute_result",
          "data": {
            "text/plain": [
              "[(12, 6), (24, 12), (4, 2), (2, 1), (7, 4), (2, 1)]"
            ]
          },
          "metadata": {},
          "execution_count": 329
        }
      ]
    },
    {
      "cell_type": "markdown",
      "source": [
        "Now we are going to turn our continuous features into tensors."
      ],
      "metadata": {
        "id": "rQXY4O01Hvqy"
      }
    },
    {
      "cell_type": "code",
      "source": [
        "conts = np.stack([df[col].values for col in cont_cols],axis=1)\n",
        "conts = torch.tensor(conts, dtype=torch.float)\n",
        "conts"
      ],
      "metadata": {
        "colab": {
          "base_uri": "https://localhost:8080/"
        },
        "id": "9RVTztYgFtYN",
        "outputId": "8994d515-17f6-4473-a1e6-c41840f20cec"
      },
      "execution_count": 330,
      "outputs": [
        {
          "output_type": "execute_result",
          "data": {
            "text/plain": [
              "tensor([[30.6000, 70.0000,  1.6000,  ...,  0.0000,  0.0000,  0.0000],\n",
              "        [ 5.6000, 78.0000,  0.6000,  ...,  0.0000,  0.0000,  0.0000],\n",
              "        [-0.4000, 83.0000,  1.2000,  ...,  0.0000,  0.0000,  0.0000],\n",
              "        ...,\n",
              "        [-8.6000, 37.0000,  1.5000,  ...,  0.0000,  0.0000,  0.0000],\n",
              "        [ 7.5000, 29.0000,  1.3000,  ...,  1.5500,  0.0000,  0.0000],\n",
              "        [18.4000, 87.0000,  0.8000,  ...,  0.0000,  0.4000,  0.0000]])"
            ]
          },
          "metadata": {},
          "execution_count": 330
        }
      ]
    },
    {
      "cell_type": "code",
      "source": [
        "conts.type()"
      ],
      "metadata": {
        "colab": {
          "base_uri": "https://localhost:8080/",
          "height": 36
        },
        "id": "3AI1KTmYIU5I",
        "outputId": "109cc8b3-be9e-47ab-c56f-f975c2b3e101"
      },
      "execution_count": 331,
      "outputs": [
        {
          "output_type": "execute_result",
          "data": {
            "text/plain": [
              "'torch.FloatTensor'"
            ],
            "application/vnd.google.colaboratory.intrinsic+json": {
              "type": "string"
            }
          },
          "metadata": {},
          "execution_count": 331
        }
      ]
    },
    {
      "cell_type": "markdown",
      "source": [
        "Converting the target to a tensor."
      ],
      "metadata": {
        "id": "QxgNnYD5JIzx"
      }
    },
    {
      "cell_type": "code",
      "source": [
        "y = torch.tensor(df[y_col].values, dtype=torch.float)\n",
        "y"
      ],
      "metadata": {
        "colab": {
          "base_uri": "https://localhost:8080/"
        },
        "id": "3_IjagslItrq",
        "outputId": "fae4ad94-c054-440f-85ac-16fda6825bd0"
      },
      "execution_count": 332,
      "outputs": [
        {
          "output_type": "execute_result",
          "data": {
            "text/plain": [
              "tensor([[1611.],\n",
              "        [ 266.],\n",
              "        [ 240.],\n",
              "        ...,\n",
              "        [  93.],\n",
              "        [ 699.],\n",
              "        [  76.]])"
            ]
          },
          "metadata": {},
          "execution_count": 332
        }
      ]
    },
    {
      "cell_type": "code",
      "source": [
        "y.type()"
      ],
      "metadata": {
        "colab": {
          "base_uri": "https://localhost:8080/",
          "height": 36
        },
        "id": "jObGrD4xJZ8p",
        "outputId": "4bb17f6a-7dc0-45a1-b516-50d4af0e25bf"
      },
      "execution_count": 333,
      "outputs": [
        {
          "output_type": "execute_result",
          "data": {
            "text/plain": [
              "'torch.FloatTensor'"
            ],
            "application/vnd.google.colaboratory.intrinsic+json": {
              "type": "string"
            }
          },
          "metadata": {},
          "execution_count": 333
        }
      ]
    },
    {
      "cell_type": "markdown",
      "source": [
        "#Creating, Training and Validating the Model"
      ],
      "metadata": {
        "id": "HaAHHWNTMDlf"
      }
    },
    {
      "cell_type": "markdown",
      "source": [
        "Now, since we have all the inputs turned into tensors, finally we can build our artificial neural network. For that, we are going to use Pytorch and build a class called Tabular Model.\n",
        "\n",
        "This class will define the preprocessing that are going to be used in categorycal and continuous features and the configuration of our neural network.\n",
        "\n",
        "The schema below shows how our ANN will work. Despite the schema shows after the preprocessing two combinations of Linear + Relu + Batch Norm + Dropout, we can use any number of combinations we want."
      ],
      "metadata": {
        "id": "sWXMqpXyMJGS"
      }
    },
    {
      "cell_type": "markdown",
      "source": [
        "![Visualização Redes Neurais.PNG](data:image/png;base64,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)"
      ],
      "metadata": {
        "id": "qypcwLtqNSni"
      }
    },
    {
      "cell_type": "code",
      "source": [
        "class TabularModel(nn.Module):\n",
        "\n",
        "    def __init__(self, emb_szs, n_cont, out_sz, layers, p=0.5):\n",
        "        super().__init__()\n",
        "        self.embeds = nn.ModuleList([nn.Embedding(ni, nf) for ni,nf in emb_szs])\n",
        "        self.emb_drop = nn.Dropout(p)\n",
        "        self.bn_cont = nn.BatchNorm1d(n_cont)\n",
        "\n",
        "        layerlist = []\n",
        "        n_emb = sum((nf for ni,nf in emb_szs))\n",
        "        n_in = n_emb + n_cont\n",
        "\n",
        "        for i in layers:\n",
        "            layerlist.append(nn.Linear(n_in,i))\n",
        "            layerlist.append(nn.ReLU(inplace=True))\n",
        "            layerlist.append(nn.BatchNorm1d(i))\n",
        "            layerlist.append(nn.Dropout(p))\n",
        "            n_in = i\n",
        "        layerlist.append(nn.Linear(layers[-1],out_sz))\n",
        "\n",
        "        self.layers = nn.Sequential(*layerlist)\n",
        "\n",
        "    def forward(self, x_cat, x_cont):\n",
        "        embeddings = []\n",
        "        for i,e in enumerate(self.embeds):\n",
        "            embeddings.append(e(x_cat[:,i]))\n",
        "        x = torch.cat(embeddings, 1)\n",
        "        x = self.emb_drop(x)\n",
        "\n",
        "        x_cont = self.bn_cont(x_cont)\n",
        "        x = torch.cat([x, x_cont], 1)\n",
        "        x = self.layers(x)\n",
        "        return x"
      ],
      "metadata": {
        "id": "RjGRRZVzKOWx"
      },
      "execution_count": 334,
      "outputs": []
    },
    {
      "cell_type": "code",
      "source": [
        "#Setting the manual seed for reasons of reproducibility and then passing an ANN of two hidden layers, the first one with 200 neurons and the second with 100 neuron. The dropout probability per each layer will be 0.1.\n",
        "torch.manual_seed(42)\n",
        "model = TabularModel(emb_szs, conts.shape[1], 1, [200,100], p=0.1)\n",
        "model"
      ],
      "metadata": {
        "colab": {
          "base_uri": "https://localhost:8080/"
        },
        "id": "taPiFygSK301",
        "outputId": "902b089d-3f7b-4d1c-e0b8-d3c14e35f7b5"
      },
      "execution_count": 335,
      "outputs": [
        {
          "output_type": "execute_result",
          "data": {
            "text/plain": [
              "TabularModel(\n",
              "  (embeds): ModuleList(\n",
              "    (0): Embedding(12, 6)\n",
              "    (1): Embedding(24, 12)\n",
              "    (2): Embedding(4, 2)\n",
              "    (3): Embedding(2, 1)\n",
              "    (4): Embedding(7, 4)\n",
              "    (5): Embedding(2, 1)\n",
              "  )\n",
              "  (emb_drop): Dropout(p=0.1, inplace=False)\n",
              "  (bn_cont): BatchNorm1d(8, eps=1e-05, momentum=0.1, affine=True, track_running_stats=True)\n",
              "  (layers): Sequential(\n",
              "    (0): Linear(in_features=34, out_features=200, bias=True)\n",
              "    (1): ReLU(inplace=True)\n",
              "    (2): BatchNorm1d(200, eps=1e-05, momentum=0.1, affine=True, track_running_stats=True)\n",
              "    (3): Dropout(p=0.1, inplace=False)\n",
              "    (4): Linear(in_features=200, out_features=100, bias=True)\n",
              "    (5): ReLU(inplace=True)\n",
              "    (6): BatchNorm1d(100, eps=1e-05, momentum=0.1, affine=True, track_running_stats=True)\n",
              "    (7): Dropout(p=0.1, inplace=False)\n",
              "    (8): Linear(in_features=100, out_features=1, bias=True)\n",
              "  )\n",
              ")"
            ]
          },
          "metadata": {},
          "execution_count": 335
        }
      ]
    },
    {
      "cell_type": "code",
      "source": [
        "# Setting the Loss Function and Optimizer. We are going to use the Mean Squared Error as a loss function and ADAM as the optimizer. The learning rate will be 0.001.\n",
        "criterion = nn.MSELoss()  # we'll convert this to RMSE later\n",
        "optimizer = torch.optim.Adam(model.parameters(), lr=0.001)\n"
      ],
      "metadata": {
        "id": "oMWGr5D6MUSW"
      },
      "execution_count": 336,
      "outputs": []
    },
    {
      "cell_type": "code",
      "source": [
        "#Making the data Sampling.\n",
        "test_size=int(0.5*len(cats))\n",
        "cat_train = cats[:test_size]\n",
        "cat_test = cats[test_size:]\n",
        "con_train = conts[:test_size]\n",
        "con_test = conts[test_size:]\n",
        "y_train = y[:test_size]\n",
        "y_test = y[test_size:]"
      ],
      "metadata": {
        "id": "wNrMy4WwMd9v"
      },
      "execution_count": 337,
      "outputs": []
    },
    {
      "cell_type": "markdown",
      "source": [
        "Let's train our model and estimate the parameters using backpropagation. We will compute the the training and validation losses.\n",
        "\n",
        "We will use 3000 epochs and show the results from 50 to 50 epochs."
      ],
      "metadata": {
        "id": "uUJTLLvfOew4"
      }
    },
    {
      "cell_type": "code",
      "source": [
        "import time\n",
        "start_time = time.time()\n",
        "\n",
        "epochs = 3000\n",
        "losses = []\n",
        "losses_val=[]\n",
        "\n",
        "for i in range(epochs):\n",
        "    i+=1\n",
        "    y_pred = model.forward(cat_train, con_train)\n",
        "    loss = torch.sqrt(criterion(y_pred, y_train)) # RMSE\n",
        "    losses.append(loss)\n",
        "\n",
        "    optimizer.zero_grad()\n",
        "    loss.backward()\n",
        "    optimizer.step()\n",
        "    with torch.no_grad():\n",
        "      model.eval()\n",
        "      y_val = model.forward(cat_test, con_test)\n",
        "      loss_val = torch.sqrt(criterion(y_val, y_test))\n",
        "      losses_val.append(loss_val)\n",
        "      model.train()\n",
        "    if i%50 == 1:\n",
        "        print(f'epoch: {i:3}  loss: {loss.item():10.8f}  loss_val: {loss_val.item():10.8f}')\n",
        "\n",
        "print(f'epoch: {i:3}  loss: {loss.item():10.8f}') # print the  line\n",
        "print(f'\\nDuration: {time.time() - start_time:.0f} seconds') # print the time elapsed"
      ],
      "metadata": {
        "colab": {
          "base_uri": "https://localhost:8080/"
        },
        "id": "0oRyn1IWNCjc",
        "outputId": "c32f62bc-fb51-46b8-b37f-09bdc515e0d2"
      },
      "execution_count": 338,
      "outputs": [
        {
          "output_type": "stream",
          "name": "stdout",
          "text": [
            "epoch:   1  loss: 961.09124756  loss_val: 982.20678711\n",
            "epoch:  51  loss: 955.61932373  loss_val: 976.92712402\n",
            "epoch: 101  loss: 949.60461426  loss_val: 970.60961914\n",
            "epoch: 151  loss: 942.15527344  loss_val: 963.42663574\n",
            "epoch: 201  loss: 932.79675293  loss_val: 955.15631104\n",
            "epoch: 251  loss: 922.15838623  loss_val: 942.65155029\n",
            "epoch: 301  loss: 909.85229492  loss_val: 931.06549072\n",
            "epoch: 351  loss: 896.27600098  loss_val: 916.31762695\n",
            "epoch: 401  loss: 881.12500000  loss_val: 901.34686279\n",
            "epoch: 451  loss: 864.54907227  loss_val: 885.19049072\n",
            "epoch: 501  loss: 846.57281494  loss_val: 865.30187988\n",
            "epoch: 551  loss: 826.69586182  loss_val: 847.41986084\n",
            "epoch: 601  loss: 806.07525635  loss_val: 828.09173584\n",
            "epoch: 651  loss: 783.31201172  loss_val: 803.15234375\n",
            "epoch: 701  loss: 759.93389893  loss_val: 781.43670654\n",
            "epoch: 751  loss: 734.63464355  loss_val: 759.40240479\n",
            "epoch: 801  loss: 708.38378906  loss_val: 734.70574951\n",
            "epoch: 851  loss: 681.46929932  loss_val: 701.10900879\n",
            "epoch: 901  loss: 652.53448486  loss_val: 676.89343262\n",
            "epoch: 951  loss: 623.87188721  loss_val: 647.59173584\n",
            "epoch: 1001  loss: 593.94268799  loss_val: 619.50958252\n",
            "epoch: 1051  loss: 562.87286377  loss_val: 581.72216797\n",
            "epoch: 1101  loss: 532.69317627  loss_val: 563.26019287\n",
            "epoch: 1151  loss: 499.65032959  loss_val: 525.28570557\n",
            "epoch: 1201  loss: 468.23919678  loss_val: 494.83569336\n",
            "epoch: 1251  loss: 436.48049927  loss_val: 464.23846436\n",
            "epoch: 1301  loss: 403.82873535  loss_val: 437.77142334\n",
            "epoch: 1351  loss: 375.98739624  loss_val: 416.20721436\n",
            "epoch: 1401  loss: 344.01882935  loss_val: 382.03921509\n",
            "epoch: 1451  loss: 317.08651733  loss_val: 359.25543213\n",
            "epoch: 1501  loss: 290.49487305  loss_val: 334.83050537\n",
            "epoch: 1551  loss: 264.93823242  loss_val: 308.11004639\n",
            "epoch: 1601  loss: 243.98527527  loss_val: 282.56198120\n",
            "epoch: 1651  loss: 216.54002380  loss_val: 261.82156372\n",
            "epoch: 1701  loss: 199.30531311  loss_val: 241.40737915\n",
            "epoch: 1751  loss: 176.06730652  loss_val: 221.05535889\n",
            "epoch: 1801  loss: 161.74230957  loss_val: 205.35794067\n",
            "epoch: 1851  loss: 145.92651367  loss_val: 197.57661438\n",
            "epoch: 1901  loss: 136.82058716  loss_val: 192.28382874\n",
            "epoch: 1951  loss: 129.76951599  loss_val: 185.13468933\n",
            "epoch: 2001  loss: 124.50292206  loss_val: 181.75347900\n",
            "epoch: 2051  loss: 121.45766449  loss_val: 182.01892090\n",
            "epoch: 2101  loss: 113.17897034  loss_val: 180.49804688\n",
            "epoch: 2151  loss: 114.49180603  loss_val: 178.63168335\n",
            "epoch: 2201  loss: 110.50115967  loss_val: 176.88098145\n",
            "epoch: 2251  loss: 109.25701141  loss_val: 178.13114929\n",
            "epoch: 2301  loss: 111.63558197  loss_val: 176.33100891\n",
            "epoch: 2351  loss: 109.51815033  loss_val: 177.93165588\n",
            "epoch: 2401  loss: 115.30554199  loss_val: 173.46028137\n",
            "epoch: 2451  loss: 112.08219147  loss_val: 173.76380920\n",
            "epoch: 2501  loss: 107.17341614  loss_val: 176.47723389\n",
            "epoch: 2551  loss: 113.30153656  loss_val: 175.39279175\n",
            "epoch: 2601  loss: 112.02240753  loss_val: 176.54997253\n",
            "epoch: 2651  loss: 108.73509979  loss_val: 177.47418213\n",
            "epoch: 2701  loss: 108.41481781  loss_val: 177.90373230\n",
            "epoch: 2751  loss: 110.59637451  loss_val: 176.13528442\n",
            "epoch: 2801  loss: 107.56972504  loss_val: 174.31556702\n",
            "epoch: 2851  loss: 103.78706360  loss_val: 174.92982483\n",
            "epoch: 2901  loss: 106.41184998  loss_val: 176.09854126\n",
            "epoch: 2951  loss: 102.84545135  loss_val: 175.78324890\n",
            "epoch: 3000  loss: 103.44433594\n",
            "\n",
            "Duration: 63 seconds\n"
          ]
        }
      ]
    },
    {
      "cell_type": "markdown",
      "source": [
        "Plotting the losses to show our model convergence."
      ],
      "metadata": {
        "id": "8Gun5jCcPsEt"
      }
    },
    {
      "cell_type": "code",
      "source": [
        "#To plot the losses, first we have to detach the tensor from the current computing graph.\n",
        "losses_plot=[]\n",
        "losses_val_plot=[]\n",
        "for loss,loss_val in zip(losses,losses_val):\n",
        "  losses_plot.append(loss.detach().numpy())\n",
        "  losses_val_plot.append(loss_val.detach().numpy())"
      ],
      "metadata": {
        "id": "PE7BgRYpP1za"
      },
      "execution_count": 339,
      "outputs": []
    },
    {
      "cell_type": "code",
      "source": [
        "#Start converging about the 2000 epoch\n",
        "fig=plt.figure()\n",
        "axes = fig.add_axes([0.1, 0.1, 0.8, 0.8])\n",
        "plt.plot(range(epochs), losses_plot, label=\"Loss_train\")\n",
        "plt.plot(range(epochs), losses_val_plot, label=\"loss_val\")\n",
        "plt.ylabel('RMSE Loss')\n",
        "plt.xlabel('epoch')\n",
        "axes.legend()"
      ],
      "metadata": {
        "colab": {
          "base_uri": "https://localhost:8080/",
          "height": 482
        },
        "id": "cz9ayYvENH55",
        "outputId": "4844d670-7d3a-4f5c-d6cb-371bb9651e62"
      },
      "execution_count": 340,
      "outputs": [
        {
          "output_type": "execute_result",
          "data": {
            "text/plain": [
              "<matplotlib.legend.Legend at 0x7b489132d270>"
            ]
          },
          "metadata": {},
          "execution_count": 340
        },
        {
          "output_type": "display_data",
          "data": {
            "text/plain": [
              "<Figure size 640x480 with 1 Axes>"
            ],
            "image/png": "[encoded data removed]"
          },
          "metadata": {}
        }
      ]
    },
    {
      "cell_type": "code",
      "source": [
        "#Printing the 50 real values in the validation dataset, our model prediction and the difference between them. As we are talking about integer numbers, the output of our ANN were rounded.\n",
        "print(f'{\"PREDICTED\":>12} {\"ACTUAL\":>8} {\"DIFF\":>8}')\n",
        "for i in range(50):\n",
        "    diff = np.abs(round(y_val[i].item())-y_test[i].item())\n",
        "    print(f'{i+1:2}.   {round(y_val[i].item())}   {y_test[i].item()}      {diff}')"
      ],
      "metadata": {
        "colab": {
          "base_uri": "https://localhost:8080/"
        },
        "id": "4Pmn4xLsQfO-",
        "outputId": "0c96a599-0892-42c0-82f8-09b6527fbb54"
      },
      "execution_count": 341,
      "outputs": [
        {
          "output_type": "stream",
          "name": "stdout",
          "text": [
            "   PREDICTED   ACTUAL     DIFF\n",
            " 1.   198   144.0      54.0\n",
            " 2.   215   67.0      148.0\n",
            " 3.   357   365.0      8.0\n",
            " 4.   2167   1922.0      245.0\n",
            " 5.   123   163.0      40.0\n",
            " 6.   1452   1444.0      8.0\n",
            " 7.   1454   1359.0      95.0\n",
            " 8.   1109   1268.0      159.0\n",
            " 9.   355   676.0      321.0\n",
            "10.   619   592.0      27.0\n",
            "11.   1414   1212.0      202.0\n",
            "12.   1992   2278.0      286.0\n",
            "13.   1183   1099.0      84.0\n",
            "14.   216   230.0      14.0\n",
            "15.   129   79.0      50.0\n",
            "16.   820   887.0      67.0\n",
            "17.   1313   1664.0      351.0\n",
            "18.   1078   1040.0      38.0\n",
            "19.   298   306.0      8.0\n",
            "20.   862   352.0      510.0\n",
            "21.   285   262.0      23.0\n",
            "22.   210   211.0      1.0\n",
            "23.   1418   1493.0      75.0\n",
            "24.   402   390.0      12.0\n",
            "25.   1205   1261.0      56.0\n",
            "26.   45   34.0      11.0\n",
            "27.   279   279.0      0.0\n",
            "28.   1332   1483.0      151.0\n",
            "29.   108   97.0      11.0\n",
            "30.   1050   1177.0      127.0\n",
            "31.   480   460.0      20.0\n",
            "32.   205   288.0      83.0\n",
            "33.   880   955.0      75.0\n",
            "34.   1388   1580.0      192.0\n",
            "35.   597   710.0      113.0\n",
            "36.   976   980.0      4.0\n",
            "37.   1784   1865.0      81.0\n",
            "38.   100   105.0      5.0\n",
            "39.   1467   1273.0      194.0\n",
            "40.   439   552.0      113.0\n",
            "41.   331   355.0      24.0\n",
            "42.   832   763.0      69.0\n",
            "43.   59   81.0      22.0\n",
            "44.   1401   1399.0      2.0\n",
            "45.   279   340.0      61.0\n",
            "46.   391   344.0      47.0\n",
            "47.   1719   1921.0      202.0\n",
            "48.   204   206.0      2.0\n",
            "49.   150   190.0      40.0\n",
            "50.   293   321.0      28.0\n"
          ]
        }
      ]
    },
    {
      "cell_type": "markdown",
      "source": [
        "# Conclusion\n",
        "\n",
        "The project was successfull in what it proposed. Using an ANN built with pytorch, we got a RMSE for the validation dataset about 175, that converged in about 2200 epochs. The high number of epochs to converge is a consequence of the small learning rate chosen, that was not a problem, since the duration of the training was not that high. This lr was chosen in a way that the network doesn't overshoot the optimal point and oscillate around it. Another point to be highlighted is that the regularization methods used fulfilled their role, as we can see from the losses' graphs that there is no overfitting.\n",
        "\n",
        "In addition to solving the specific problem, to presenting several concepts in deep learning, the ANN used in this notebook can be reproducible for different kinds of tabular problems.\n"
      ],
      "metadata": {
        "id": "dwGH6XpWQ98e"
      }
    }
  ]
}